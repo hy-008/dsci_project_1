{
 "cells": [
  {
   "cell_type": "markdown",
   "id": "f34d7b38-bc4b-47db-bd80-f4be2e25923d",
   "metadata": {},
   "source": [
    "# Project: Final Report"
   ]
  },
  {
   "cell_type": "code",
   "execution_count": null,
   "id": "7281048c-a4df-4c48-82ad-bfb54f117d90",
   "metadata": {},
   "outputs": [],
   "source": []
  }
 ],
 "metadata": {
  "kernelspec": {
   "display_name": "R",
   "language": "R",
   "name": "ir"
  },
  "language_info": {
   "codemirror_mode": "r",
   "file_extension": ".r",
   "mimetype": "text/x-r-source",
   "name": "R",
   "pygments_lexer": "r",
   "version": "4.3.3"
  }
 },
 "nbformat": 4,
 "nbformat_minor": 5
}
